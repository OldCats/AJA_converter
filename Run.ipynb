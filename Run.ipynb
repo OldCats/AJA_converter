{
 "cells": [
  {
   "cell_type": "code",
   "execution_count": 2,
   "metadata": {},
   "outputs": [
    {
     "name": "stdout",
     "output_type": "stream",
     "text": [
      "正式出刊\n"
     ]
    },
    {
     "name": "stdin",
     "output_type": "stream",
     "text": [
      "請輸入檔案名稱，例test.ris:  aja_58-2_2020_11_11.ris\n",
      "請輸入預刊日期，例2020-02-01：  2020-05-27\n",
      "請輸入出版日期，例2020-03-01：  2020-06-01\n"
     ]
    },
    {
     "name": "stdout",
     "output_type": "stream",
     "text": [
      "Done! 記得增加作者機構欄位<Affiliation>\n"
     ]
    }
   ],
   "source": [
    " %run PubMed_postprint_converter.py"
   ]
  },
  {
   "cell_type": "code",
   "execution_count": 1,
   "metadata": {},
   "outputs": [
    {
     "name": "stdout",
     "output_type": "stream",
     "text": [
      "預刊版本\n"
     ]
    },
    {
     "name": "stdin",
     "output_type": "stream",
     "text": [
      "請輸入檔案名稱，例test.ris:  aja_58-2_2020_11_05_1_preprint.ris\n",
      "請輸入預刊日期，例2020-02-01：  2020-05-27\n"
     ]
    },
    {
     "name": "stdout",
     "output_type": "stream",
     "text": [
      "Done! 記得增加作者機構欄位<Affiliation>\n"
     ]
    }
   ],
   "source": [
    " %run PubMed_preprint_converter.py"
   ]
  }
 ],
 "metadata": {
  "kernelspec": {
   "display_name": "Python 3",
   "language": "python",
   "name": "python3"
  },
  "language_info": {
   "codemirror_mode": {
    "name": "ipython",
    "version": 3
   },
   "file_extension": ".py",
   "mimetype": "text/x-python",
   "name": "python",
   "nbconvert_exporter": "python",
   "pygments_lexer": "ipython3",
   "version": "3.7.6"
  }
 },
 "nbformat": 4,
 "nbformat_minor": 4
}
